{
 "cells": [
  {
   "cell_type": "markdown",
   "metadata": {},
   "source": [
    "# Put simulation data in a usable form"
   ]
  },
  {
   "cell_type": "code",
   "execution_count": 1,
   "metadata": {
    "collapsed": false
   },
   "outputs": [
    {
     "name": "stderr",
     "output_type": "stream",
     "text": [
      "/Library/Python/2.7/site-packages/IPython/kernel/__init__.py:13: ShimWarning: The `IPython.kernel` package has been deprecated. You should import from ipykernel or jupyter_client instead.\n",
      "  \"You should import from ipykernel or jupyter_client instead.\", ShimWarning)\n"
     ]
    }
   ],
   "source": [
    "import pylab as p\n",
    "import numpy as np\n",
    "from astropy.io import fits\n",
    "import glob\n",
    "\n",
    "# For saving images\n",
    "import scipy.misc"
   ]
  },
  {
   "cell_type": "code",
   "execution_count": 2,
   "metadata": {
    "collapsed": true
   },
   "outputs": [],
   "source": [
    "data_dir = \"../data/lensing_large/\"\n",
    "out_dir = \"../data/lensing_small/\""
   ]
  },
  {
   "cell_type": "code",
   "execution_count": 3,
   "metadata": {
    "collapsed": false
   },
   "outputs": [],
   "source": [
    "# Takes a fits filename (including filepath), and returns a set of cut up images\n",
    "def get_images(file_name, nx_pixels=256, ny_pixels=256):\n",
    "    \n",
    "    # Load first file\n",
    "    snap1 = fits.open(file_name)\n",
    "    scidata = snap1[0].data\n",
    "\n",
    "    # Number of images that will fit in each image\n",
    "    nx_images = len(scidata) / nx_pixels\n",
    "    ny_images = len(scidata[0]) / ny_pixels\n",
    "\n",
    "    # Total number of images\n",
    "    n_images = nx_images * ny_images\n",
    "\n",
    "    # Create numpy array to hold images\n",
    "    images = np.empty((n_images, nx_pixels, ny_pixels))\n",
    "\n",
    "\n",
    "    for i in np.arange(nx_images):\n",
    "        for j in np.arange(ny_images):\n",
    "            index_image = i*nx_images + j\n",
    "            images[index_image] = scidata[nx_pixels*i:nx_pixels*(i+1), ny_pixels*j:ny_pixels*(j+1)]\n",
    "        \n",
    "    return images"
   ]
  },
  {
   "cell_type": "code",
   "execution_count": 34,
   "metadata": {
    "collapsed": false
   },
   "outputs": [],
   "source": [
    "def degrade_image(images, bin_by):\n",
    "\n",
    "    n_images = len(images[::])\n",
    "\n",
    "    nx_pixels_in = len(images[0][0])\n",
    "    ny_pixels_in = len(images[0].T[0])\n",
    "\n",
    "    nx_pixels_out = nx_pixels_in / bin_by\n",
    "    ny_pixels_out = ny_pixels_in / bin_by\n",
    "\n",
    "    pictures = np.empty((n_images, nx_pixels_out, ny_pixels_out))\n",
    "\n",
    "    for p in np.arange(n_images):\n",
    "\n",
    "        vecs = np.zeros((nx_pixels_in, ny_pixels_out))\n",
    "        for i in np.arange(nx_pixels_in):\n",
    "            vecs[i] = 0.5 * (images[p][i][::2] + images[p][i][1::2])\n",
    "\n",
    "        pictures[p] = 0.5 * (vecs[::2] + vecs[1::2])\n",
    "\n",
    "    return pictures"
   ]
  },
  {
   "cell_type": "code",
   "execution_count": 35,
   "metadata": {
    "collapsed": false
   },
   "outputs": [
    {
     "name": "stdout",
     "output_type": "stream",
     "text": [
      "(64, 128, 128)\n",
      "(64, 128, 128)\n"
     ]
    }
   ],
   "source": [
    "file_names = glob.glob(data_dir + \"*.fits\")\n",
    "\n",
    "i = 0\n",
    "for f in file_names:\n",
    "    images = get_images(f)\n",
    "    pic_out = degrade_image(images, 2)\n",
    "\n",
    "    print pic_out.shape\n",
    "\n",
    "    for j in np.arange(len(images[::])):\n",
    "        i += 1\n",
    "        scipy.misc.imsave(out_dir + 'outfile_' + str(i) + '.jpg', images[j])\n",
    "        "
   ]
  },
  {
   "cell_type": "code",
   "execution_count": null,
   "metadata": {
    "collapsed": true
   },
   "outputs": [],
   "source": []
  }
 ],
 "metadata": {
  "kernelspec": {
   "display_name": "Python 2",
   "language": "python",
   "name": "python2"
  },
  "language_info": {
   "codemirror_mode": {
    "name": "ipython",
    "version": 2
   },
   "file_extension": ".py",
   "mimetype": "text/x-python",
   "name": "python",
   "nbconvert_exporter": "python",
   "pygments_lexer": "ipython2",
   "version": "2.7.10"
  }
 },
 "nbformat": 4,
 "nbformat_minor": 0
}
