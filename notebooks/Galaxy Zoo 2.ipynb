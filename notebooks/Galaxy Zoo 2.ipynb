{
 "cells": [
  {
   "cell_type": "markdown",
   "metadata": {},
   "source": [
    "# Galazy Zoo as a training set for a Galaxy Classification neural network"
   ]
  },
  {
   "cell_type": "code",
   "execution_count": null,
   "metadata": {
    "collapsed": true
   },
   "outputs": [],
   "source": [
    "import h5py\n",
    "import numpy as np\n",
    "import tensorflow as tf\n",
    "import matplotlib.pyplot as plt\n",
    "    \n",
    "# this package\n",
    "from astronn.data import fetch_GalaxyZoo\n",
    "\n",
    "%matplotlib inline"
   ]
  },
  {
   "cell_type": "markdown",
   "metadata": {},
   "source": [
    "### Load up Galaxy Zoo data - contains train and validation data"
   ]
  },
  {
   "cell_type": "code",
   "execution_count": null,
   "metadata": {
    "collapsed": false
   },
   "outputs": [],
   "source": [
    "cache_file = fetch_GalaxyZoo()"
   ]
  },
  {
   "cell_type": "code",
   "execution_count": null,
   "metadata": {
    "collapsed": false
   },
   "outputs": [],
   "source": [
    "def randomize(data, labels):\n",
    "    permutation = np.random.permutation(labels.shape[0])\n",
    "    shuffled_data = data[permutation]\n",
    "    shuffled_labels = labels[permutation]\n",
    "    return shuffled_data, shuffled_labels\n",
    "\n",
    "with h5py.File(cache_file, 'r') as f:\n",
    "    train_dataset, train_labels = randomize(f['train']['images'][:], f['train']['labels'][:])\n",
    "#    valid_dataset, valid_labels = randomize(f['validate']['images'][:], f['validate']['labels'][:])\n",
    "    valid_dataset, valid_labels = randomize(f['test']['images'][0:5000], f['test']['labels'][0:5000])\n",
    "    test_dataset, test_labels = randomize(f['test']['images'][5000:10000], f['test']['labels'][5000:10000])\n",
    "\n",
    "print train_dataset.shape\n",
    "print valid_dataset.shape\n",
    "print test_dataset.shape\n",
    "    "
   ]
  },
  {
   "cell_type": "markdown",
   "metadata": {},
   "source": [
    "### Let's explore this awesome data"
   ]
  },
  {
   "cell_type": "code",
   "execution_count": null,
   "metadata": {
    "collapsed": false
   },
   "outputs": [],
   "source": [
    "fig,axes = plt.subplots(4,6,figsize=(8,5.3),sharex=True,sharey=True)\n",
    "with h5py.File(cache_file, 'r') as f:\n",
    "    for i in range(24):\n",
    "        ax = axes.flat[i]\n",
    "        \n",
    "        idx = np.random.randint(f['test']['images'].shape[0])\n",
    "        ax.imshow(f['test']['images'][idx], interpolation='nearest')\n",
    "        "
   ]
  },
  {
   "cell_type": "code",
   "execution_count": null,
   "metadata": {
    "collapsed": false
   },
   "outputs": [],
   "source": [
    "# hdf5 data structure\n",
    "\n",
    "with h5py.File(cache_file, 'r') as f:\n",
    "    print f.filename\n",
    "    print f.name\n",
    "    print f.keys()\n",
    "    print f['train']['images'].shape[0], \"images in the training set\"\n",
    "    print f['test']['images'].shape[0], \"images in the testing set\"\n",
    "    print f['validate']['images'].shape[0], \"images in the validation set\"\n",
    "    print f['test'].name    \n",
    "    print f['test'].keys()\n",
    "    print f['test']['metadata'].dtype.names\n",
    "    print f['test']['images'].shape\n",
    "    print f['test']['labels'].shape"
   ]
  },
  {
   "cell_type": "code",
   "execution_count": null,
   "metadata": {
    "collapsed": false
   },
   "outputs": [],
   "source": [
    "fig,axes = plt.subplots(1,6,figsize=(12,2),sharex=True,sharey=True)\n",
    "\n",
    "with h5py.File(cache_file, 'r') as f:\n",
    "    \n",
    "    n_images = f['train']['labels'].shape[0]\n",
    "    \n",
    "        \n",
    "    gal_class = np.zeros((6, n_images))\n",
    "    for i in np.arange(6):\n",
    "        ax = axes.flat[i]\n",
    "        ax.set_xticks([0.2, 0.5, 0.8])\n",
    "        \n",
    "        gal_class[i] = np.array(f['train']['labels']).T[i]\n",
    "        gal_class[i] = np.sort(gal_class[i])\n",
    "    \n",
    "        n_50pct = len(gal_class[i][gal_class[i]>0.5])\n",
    "        n_75pct = len(gal_class[i][gal_class[i]>0.75])\n",
    "        n_90pct = len(gal_class[i][gal_class[i]>0.9])\n",
    "            \n",
    "        ax.plot(np.arange(n_images)/float(n_images), gal_class[i])\n",
    "        ax.set_title(str(i) + \"\\nP>50%:\" + str(n_50pct) + \"\\n\" + \"P>75%:\" + str(n_75pct) + \"\\n\" + \"P>90%:\" + str(n_90pct))\n",
    "    \n",
    "#plt.show()\n",
    "plt.savefig(\"../figures/class_distribution.pdf\")"
   ]
  },
  {
   "cell_type": "markdown",
   "metadata": {},
   "source": [
    "### Let's create a refined training set that includes only galaxies with a classification > 50%"
   ]
  },
  {
   "cell_type": "code",
   "execution_count": null,
   "metadata": {
    "collapsed": false
   },
   "outputs": [],
   "source": [
    "fig,axes = plt.subplots(6,5,figsize=(8,9),sharex=True,sharey=True)\n",
    "\n",
    "for i in np.arange(6):\n",
    "        \n",
    "    args = test_labels.T[i].argsort()[-5:]\n",
    "    \n",
    "    # Plot 5 highest probability galaxy types\n",
    "    for j in np.arange(5):\n",
    "        ax = axes.flat[5*i + j]\n",
    "        ax.imshow(test_dataset[args[j]], interpolation='nearest')\n",
    "        ax.set_xticks([0, 10, 20, 30])\n",
    "        ax.set_yticks([0, 10, 20, 30])\n",
    "        if j == 0: ax.set_ylabel(str(i))\n",
    "\n",
    "#plt.savefig(\"../figures/class_sample.pdf\")\n",
    "plt.show()"
   ]
  },
  {
   "cell_type": "code",
   "execution_count": null,
   "metadata": {
    "collapsed": false
   },
   "outputs": [],
   "source": [
    "args = np.array([], dtype=int)\n",
    "\n",
    "for i in np.arange(6):\n",
    "\n",
    "    args = np.append(args, train_labels.T[i].argsort()[-1500:])\n",
    "    \n",
    "train_subdata, train_sublabels = randomize(train_dataset[args], train_labels[args])\n",
    "\n",
    "print train_subdata.shape\n",
    "print train_sublabels.shape"
   ]
  },
  {
   "cell_type": "code",
   "execution_count": null,
   "metadata": {
    "collapsed": false
   },
   "outputs": [],
   "source": [
    "fig,axes = plt.subplots(6,5,figsize=(8,9),sharex=True,sharey=True)\n",
    "\n",
    "for i in np.arange(6):\n",
    "        \n",
    "    args = train_sublabels.T[i].argsort()[-5:]\n",
    "        \n",
    "    # Plot 5 highest probability galaxy types\n",
    "    for j in np.arange(5):\n",
    "        ax = axes.flat[5*i + j]\n",
    "        ax.imshow(train_subdata[args[j]], interpolation='nearest')\n",
    "        ax.set_xticks([0, 10, 20, 30])\n",
    "        ax.set_yticks([0, 10, 20, 30])\n",
    "        if j == 0: ax.set_ylabel(str(i))\n",
    "\n",
    "plt.show()"
   ]
  },
  {
   "cell_type": "markdown",
   "metadata": {},
   "source": [
    "### Set all labels to highest likelihood class"
   ]
  },
  {
   "cell_type": "code",
   "execution_count": null,
   "metadata": {
    "collapsed": false
   },
   "outputs": [],
   "source": [
    "def orthogonal_basis(array_in):\n",
    "    array_tmp = np.zeros(array_in.shape)\n",
    "    \n",
    "    array_tmp[np.arange(len(array_in)),np.argmax(array_in, axis=1)] = 1\n",
    "\n",
    "    return array_tmp\n",
    "    \n",
    "    \n",
    "train_sublabels = orthogonal_basis(train_sublabels)\n",
    "test_labels = orthogonal_basis(test_labels)\n",
    "valid_labels = orthogonal_basis(valid_labels)\n",
    "\n"
   ]
  },
  {
   "cell_type": "markdown",
   "metadata": {},
   "source": [
    "### Now we reformat into 1-hats"
   ]
  },
  {
   "cell_type": "code",
   "execution_count": null,
   "metadata": {
    "collapsed": false
   },
   "outputs": [],
   "source": [
    "image_size = 32\n",
    "num_labels = 6\n",
    "num_channels = 3\n",
    "\n",
    "def reformat(dataset, labels):\n",
    "    dataset = dataset.reshape((-1, image_size * image_size * num_channels)).astype(np.float32)\n",
    "    # Map 0 to [1.0, 0.0, 0.0 ...], 1 to [0.0, 1.0, 0.0 ...]\n",
    "#    labels = (np.arange(num_labels) == labels[:,None]).astype(np.float32)\n",
    "    return dataset, labels\n",
    "\n",
    "train_subdata, train_sublabels = reformat(train_subdata, train_sublabels)\n",
    "valid_dataset, valid_labels = reformat(valid_dataset, valid_labels)\n",
    "test_dataset, test_labels = reformat(test_dataset, test_labels)\n",
    "\n",
    "print('Training set', train_subdata.shape, train_sublabels.shape)\n",
    "print('Validation set', valid_dataset.shape, valid_labels.shape)\n",
    "print('Test set', test_dataset.shape, test_labels.shape)"
   ]
  },
  {
   "cell_type": "markdown",
   "metadata": {},
   "source": [
    "### Let's now build our neural network"
   ]
  },
  {
   "cell_type": "code",
   "execution_count": null,
   "metadata": {
    "collapsed": false
   },
   "outputs": [],
   "source": [
    "def accuracy_classes(predictions, labels):\n",
    "    \n",
    "    acc = np.zeros(num_labels)\n",
    "    \n",
    "    labels_test = labels[np.where(np.argmax(predictions, 1) == np.argmax(labels, 1))]\n",
    "    \n",
    "    predictions_test = predictions[np.where(np.argmax(predictions, 1) == np.argmax(labels, 1))]\n",
    "    predictions_test = orthogonal_basis(predictions_test)\n",
    "    \n",
    "    for i in np.arange(num_labels):\n",
    "        \n",
    "        if np.sum(np.argmax(labels, 1) == i) == 0:\n",
    "            acc[i] = -1.0\n",
    "            print \"Channel\", i, \"- no samples\"\n",
    "        else:\n",
    "            acc[i] = 100.0 * np.sum(np.argmax(labels_test, 1) == i) / np.sum(np.argmax(labels, 1) == i) \n",
    "            print \"Channel\", i, \"-\", acc[i], \"or\", \\\n",
    "                            np.sum(np.argmax(labels_test, 1) == i), \"of\", np.sum(np.argmax(labels, 1) == i)\n",
    "    \n",
    "    return acc\n",
    "#    return (100.0 * np.sum(np.argmax(predictions, 1) == np.argmax(labels, 1)) / predictions.shape[0])"
   ]
  },
  {
   "cell_type": "code",
   "execution_count": null,
   "metadata": {
    "collapsed": false
   },
   "outputs": [],
   "source": [
    "batch_size = 64\n",
    "image_size = 32\n",
    "num_labels = 6\n",
    "num_channels = 3\n",
    "flat_size = num_channels*image_size**2\n",
    "x_patch = 5\n",
    "y_patch = 5\n",
    "layer1_out = 32\n",
    "layer2_out = 64\n",
    "layer3_fc = 1024\n",
    "\n",
    "\n",
    "# Weight initialization function\n",
    "def weight_variable(shape):\n",
    "    initial = tf.truncated_normal(shape, stddev=0.1)\n",
    "    return tf.Variable(initial)\n",
    "\n",
    "# Bias initialization function\n",
    "def bias_variable(shape):\n",
    "    initial = tf.constant(0.1, shape=shape)\n",
    "    return tf.Variable(initial)\n",
    "\n",
    "# Convolutional function\n",
    "def conv2d(x, W):\n",
    "    return tf.nn.conv2d(x, W, strides=[1, 1, 1, 1], padding='SAME')\n",
    "\n",
    "# Pooling function\n",
    "def max_pool_2x2(x):\n",
    "    return tf.nn.max_pool(x, ksize=[1, 2, 2, 1], strides=[1, 2, 2, 1], padding='SAME')\n",
    "\n",
    "\n",
    "\n",
    "\n",
    "sess = tf.InteractiveSession()\n",
    "\n",
    "\n",
    "x = tf.placeholder(tf.float32, shape=[None, flat_size])\n",
    "y_ = tf.placeholder(tf.float32, shape=[None, num_labels])\n",
    "\n",
    "\n",
    "# Reshape image into 4D tensor\n",
    "x_image = tf.reshape(x, [-1,image_size,image_size,num_channels])\n",
    "\n",
    "\n",
    "# Layer 1\n",
    "W_conv1 = weight_variable([x_patch, y_patch, num_channels, layer1_out])\n",
    "b_conv1 = bias_variable([layer1_out])\n",
    "\n",
    "h_conv1 = tf.nn.relu(conv2d(x_image, W_conv1) + b_conv1)\n",
    "h_pool1 = max_pool_2x2(h_conv1)\n",
    "\n",
    "\n",
    "# Layer 2\n",
    "W_conv2 = weight_variable([x_patch, y_patch, layer1_out, layer2_out])\n",
    "b_conv2 = bias_variable([layer2_out])\n",
    "\n",
    "h_conv2 = tf.nn.relu(conv2d(h_pool1, W_conv2) + b_conv2)\n",
    "h_pool2 = max_pool_2x2(h_conv2)\n",
    "\n",
    "\n",
    "# Fully connected layer\n",
    "W_fc1 = weight_variable([8 * 8 * layer2_out, layer3_fc])\n",
    "b_fc1 = bias_variable([layer3_fc])\n",
    "\n",
    "h_pool2_flat = tf.reshape(h_pool2, [-1, 8*8*layer2_out])\n",
    "h_fc1 = tf.nn.relu(tf.matmul(h_pool2_flat, W_fc1) + b_fc1)\n",
    "\n",
    "# Dropout\n",
    "keep_prob = tf.placeholder(tf.float32)\n",
    "h_fc1_drop = tf.nn.dropout(h_fc1, keep_prob)\n",
    "\n",
    "\n",
    "# Readout layer\n",
    "W_fc2 = weight_variable([layer3_fc, num_labels])\n",
    "b_fc2 = bias_variable([num_labels])\n",
    "\n",
    "y_conv=tf.nn.softmax(tf.matmul(h_fc1_drop, W_fc2) + b_fc2)\n",
    "\n",
    "\n",
    "\n",
    "# Entropy, optimizer\n",
    "cross_entropy = -tf.reduce_sum(y_*tf.log(y_conv))\n",
    "train_step = tf.train.AdamOptimizer(1e-4).minimize(cross_entropy)\n",
    "correct_prediction = tf.equal(tf.argmax(y_conv,1), tf.argmax(y_,1))\n",
    "\n",
    "# Accuracy\n",
    "accuracy = tf.reduce_mean(tf.cast(correct_prediction, tf.float32))\n",
    "\n",
    "# Train the model    \n",
    "sess.run(tf.initialize_all_variables())\n",
    "for i in range(10000):\n",
    "    \n",
    "    # Get new batch\n",
    "    rand_args = np.random.randint(len(train_subdata), size=batch_size)\n",
    "    batch_data = train_subdata[rand_args]\n",
    "    batch_labels = train_sublabels[rand_args]\n",
    "    # batch = mnist.train.next_batch(50)\n",
    "\n",
    "    if i%500 == 0:\n",
    "        train_accuracy = accuracy.eval(feed_dict={x: batch_data, y_: batch_labels, keep_prob: 1.0})\n",
    "        print(\"step %d, training accuracy %g\"%(i, train_accuracy))\n",
    "    train_step.run(feed_dict={x: batch_data, y_: batch_labels, keep_prob: 0.5})\n",
    "\n",
    "print(\"test accuracy %g\"%accuracy.eval(feed_dict={\n",
    "    x: test_dataset, y_: test_labels, keep_prob: 1.0}))\n",
    "print(\"validation accuracy %g\"%accuracy.eval(feed_dict={\n",
    "    x: valid_dataset, y_: valid_labels, keep_prob: 1.0}))\n"
   ]
  },
  {
   "cell_type": "code",
   "execution_count": null,
   "metadata": {
    "collapsed": true
   },
   "outputs": [],
   "source": []
  }
 ],
 "metadata": {
  "kernelspec": {
   "display_name": "Python 2",
   "language": "python",
   "name": "python2"
  },
  "language_info": {
   "codemirror_mode": {
    "name": "ipython",
    "version": 2
   },
   "file_extension": ".py",
   "mimetype": "text/x-python",
   "name": "python",
   "nbconvert_exporter": "python",
   "pygments_lexer": "ipython2",
   "version": "2.7.10"
  }
 },
 "nbformat": 4,
 "nbformat_minor": 0
}