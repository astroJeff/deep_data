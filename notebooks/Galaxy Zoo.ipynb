{
 "cells": [
  {
   "cell_type": "markdown",
   "metadata": {},
   "source": [
    "# Galazy Zoo as a training set for a Galaxy Classification neural network"
   ]
  },
  {
   "cell_type": "code",
   "execution_count": null,
   "metadata": {
    "collapsed": true
   },
   "outputs": [],
   "source": [
    "import h5py\n",
    "import numpy as np\n",
    "import tensorflow as tf\n",
    "import matplotlib.pyplot as plt\n",
    "    \n",
    "# this package\n",
    "from astronn.data import fetch_GalaxyZoo\n",
    "\n",
    "%matplotlib inline"
   ]
  },
  {
   "cell_type": "markdown",
   "metadata": {},
   "source": [
    "### Load up Galaxy Zoo data - contains train and validation data"
   ]
  },
  {
   "cell_type": "code",
   "execution_count": null,
   "metadata": {
    "collapsed": false
   },
   "outputs": [],
   "source": [
    "cache_file = fetch_GalaxyZoo()"
   ]
  },
  {
   "cell_type": "code",
   "execution_count": null,
   "metadata": {
    "collapsed": false
   },
   "outputs": [],
   "source": [
    "def randomize(data, labels):\n",
    "    permutation = np.random.permutation(labels.shape[0])\n",
    "    shuffled_data = data[permutation]\n",
    "    shuffled_labels = labels[permutation]\n",
    "    return shuffled_data, shuffled_labels\n",
    "\n",
    "with h5py.File(cache_file, 'r') as f:\n",
    "    train_dataset, train_labels = randomize(f['train']['images'][:], f['train']['labels'][:])\n",
    "#    valid_dataset, valid_labels = randomize(f['validate']['images'][:], f['validate']['labels'][:])\n",
    "    valid_dataset, valid_labels = randomize(f['test']['images'][0:5000], f['test']['labels'][0:5000])\n",
    "    test_dataset, test_labels = randomize(f['test']['images'][5000:10000], f['test']['labels'][5000:10000])\n"
   ]
  },
  {
   "cell_type": "markdown",
   "metadata": {},
   "source": [
    "### Let's explore this awesome data"
   ]
  },
  {
   "cell_type": "code",
   "execution_count": null,
   "metadata": {
    "collapsed": false
   },
   "outputs": [],
   "source": [
    "fig,axes = plt.subplots(4,6,figsize=(8,5.3),sharex=True,sharey=True)\n",
    "with h5py.File(cache_file, 'r') as f:\n",
    "    for i in range(24):\n",
    "        ax = axes.flat[i]\n",
    "        \n",
    "        idx = np.random.randint(f['test']['images'].shape[0])\n",
    "        ax.imshow(f['test']['images'][idx], interpolation='nearest')\n",
    "        "
   ]
  },
  {
   "cell_type": "code",
   "execution_count": null,
   "metadata": {
    "collapsed": false
   },
   "outputs": [],
   "source": [
    "# hdf5 data structure\n",
    "\n",
    "with h5py.File(cache_file, 'r') as f:\n",
    "    print f.filename\n",
    "    print f.name\n",
    "    print f.keys()\n",
    "    print f['train']['images'].shape[0], \"images in the training set\"\n",
    "    print f['test']['images'].shape[0], \"images in the testing set\"\n",
    "    print f['validate']['images'].shape[0], \"images in the validation set\"\n",
    "    print f['test'].name    \n",
    "    print f['test'].keys()\n",
    "    print f['test']['metadata'].dtype.names\n",
    "    print f['test']['images'].shape\n",
    "    print f['test']['labels'].shape"
   ]
  },
  {
   "cell_type": "code",
   "execution_count": null,
   "metadata": {
    "collapsed": false
   },
   "outputs": [],
   "source": [
    "fig,axes = plt.subplots(1,6,figsize=(12,2),sharex=True,sharey=True)\n",
    "\n",
    "with h5py.File(cache_file, 'r') as f:\n",
    "    \n",
    "    n_images = f['train']['labels'].shape[0]\n",
    "    \n",
    "        \n",
    "    gal_class = np.zeros((6, n_images))\n",
    "    for i in np.arange(6):\n",
    "        ax = axes.flat[i]\n",
    "        ax.set_xticks([0.2, 0.5, 0.8])\n",
    "        \n",
    "        gal_class[i] = np.array(f['train']['labels']).T[i]\n",
    "        gal_class[i] = np.sort(gal_class[i])\n",
    "    \n",
    "        n_50pct = len(gal_class[i][gal_class[i]>0.5])\n",
    "        n_75pct = len(gal_class[i][gal_class[i]>0.75])\n",
    "        n_90pct = len(gal_class[i][gal_class[i]>0.9])\n",
    "            \n",
    "        ax.plot(np.arange(n_images)/float(n_images), gal_class[i])\n",
    "        ax.set_title(str(i) + \"\\nP>50%:\" + str(n_50pct) + \"\\n\" + \"P>75%:\" + str(n_75pct) + \"\\n\" + \"P>90%:\" + str(n_90pct))\n",
    "    \n",
    "plt.show()"
   ]
  },
  {
   "cell_type": "markdown",
   "metadata": {},
   "source": [
    "### Let's create a refined training set that includes only galaxies with a classification > 50%"
   ]
  },
  {
   "cell_type": "code",
   "execution_count": null,
   "metadata": {
    "collapsed": false
   },
   "outputs": [],
   "source": [
    "fig,axes = plt.subplots(6,5,figsize=(8,9),sharex=True,sharey=True)\n",
    "\n",
    "for i in np.arange(6):\n",
    "        \n",
    "    args = test_labels.T[i].argsort()[-5:]\n",
    "    \n",
    "    # Plot 5 highest probability galaxy types\n",
    "    for j in np.arange(5):\n",
    "        ax = axes.flat[5*i + j]\n",
    "        ax.imshow(test_dataset[args[j]], interpolation='nearest')\n",
    "        ax.set_xticks([0, 10, 20, 30])\n",
    "        ax.set_yticks([0, 10, 20, 30])\n",
    "        if j == 0: ax.set_ylabel(str(i))\n"
   ]
  },
  {
   "cell_type": "code",
   "execution_count": null,
   "metadata": {
    "collapsed": false
   },
   "outputs": [],
   "source": [
    "args = np.array([], dtype=int)\n",
    "\n",
    "for i in np.arange(6):\n",
    "\n",
    "    args = np.append(args, train_labels.T[i].argsort()[-1500:])\n",
    "    \n",
    "train_subdata, train_sublabels = randomize(train_dataset[args], train_labels[args])\n",
    "\n",
    "print train_subdata.shape\n",
    "print train_sublabels.shape"
   ]
  },
  {
   "cell_type": "markdown",
   "metadata": {},
   "source": [
    "### Set all labels to highest likelihood class"
   ]
  },
  {
   "cell_type": "code",
   "execution_count": null,
   "metadata": {
    "collapsed": false
   },
   "outputs": [],
   "source": [
    "def orthogonal_basis(array_in):\n",
    "    array_tmp = np.zeros(array_in.shape)\n",
    "    \n",
    "    array_tmp[np.arange(len(array_in)),np.argmax(array_in, axis=1)] = 1\n",
    "\n",
    "    return array_tmp\n",
    "    \n",
    "\n",
    "train_sublabels = orthogonal_basis(train_sublabels)\n",
    "test_labels = orthogonal_basis(test_labels)\n",
    "valid_labels = orthogonal_basis(valid_labels)\n",
    "\n"
   ]
  },
  {
   "cell_type": "markdown",
   "metadata": {},
   "source": [
    "### Now we reformat into 1-hats"
   ]
  },
  {
   "cell_type": "code",
   "execution_count": null,
   "metadata": {
    "collapsed": false
   },
   "outputs": [],
   "source": [
    "image_size = 32\n",
    "num_labels = 6\n",
    "\n",
    "def reformat(dataset, labels):\n",
    "    dataset = dataset.reshape((-1, image_size * image_size)).astype(np.float32)\n",
    "    # Map 0 to [1.0, 0.0, 0.0 ...], 1 to [0.0, 1.0, 0.0 ...]\n",
    "#    labels = (np.arange(num_labels) == labels[:,None]).astype(np.float32)\n",
    "    return dataset, labels\n",
    "\n",
    "train_subdata, train_sublabels = reformat(train_subdata, train_sublabels)\n",
    "valid_dataset, valid_labels = reformat(valid_dataset, valid_labels)\n",
    "test_dataset, test_labels = reformat(test_dataset, test_labels)\n",
    "\n",
    "print('Training set', train_subdata.shape, train_sublabels.shape)\n",
    "print('Validation set', valid_dataset.shape, valid_labels.shape)\n",
    "print('Test set', test_dataset.shape, test_labels.shape)"
   ]
  },
  {
   "cell_type": "markdown",
   "metadata": {},
   "source": [
    "### Let's now build our neural network"
   ]
  },
  {
   "cell_type": "code",
   "execution_count": null,
   "metadata": {
    "collapsed": true
   },
   "outputs": [],
   "source": [
    "def accuracy(predictions, labels):\n",
    "    return (100.0 * np.sum(np.argmax(predictions, 1) == np.argmax(labels, 1)) / predictions.shape[0])"
   ]
  },
  {
   "cell_type": "code",
   "execution_count": null,
   "metadata": {
    "collapsed": false
   },
   "outputs": [],
   "source": [
    "batch_size = 512\n",
    "image_size = 32\n",
    "num_labels = 6\n",
    "\n",
    "\n",
    "def run_graph(num_steps=1001, beta=1.0e-4, offset_flag=False, step_graph=False, dropout_flag=False):\n",
    "    graph = tf.Graph()\n",
    "    with graph.as_default():\n",
    "    \n",
    "        # Input data. For the training data, we use a placeholder that will be fed\n",
    "        # at run time with a training minibatch.\n",
    "        tf_train_dataset = tf.placeholder(tf.float32,shape=(batch_size, image_size * image_size))\n",
    "        tf_train_labels = tf.placeholder(tf.float32, shape=(batch_size, num_labels))\n",
    "        tf_valid_dataset = tf.constant(valid_dataset)\n",
    "        tf_test_dataset = tf.constant(test_dataset)\n",
    "        keep_prob = tf.placeholder(tf.float32)\n",
    "  \n",
    "        # First step to move from image to first layer\n",
    "        W_fc1 = tf.Variable(tf.truncated_normal([32**2, 1024], stddev=0.1))\n",
    "        b_fc1 = tf.Variable(tf.constant(0.1, shape=[1024]))\n",
    "        h_fc1 = tf.nn.relu(tf.matmul(tf_train_dataset, W_fc1) + b_fc1)\n",
    "\n",
    "        # Add dropout layer if flag is true\n",
    "        if dropout_flag:\n",
    "            keep_prob = tf.placeholder(\"float\")\n",
    "            h_fc1_out = tf.nn.dropout(h_fc1, keep_prob)\n",
    "        else:\n",
    "            h_fc1_out = h_fc1\n",
    "            \n",
    "        \n",
    "        # Move from first layer to output\n",
    "        W_fc2 = tf.Variable(tf.truncated_normal([1024, 6], stddev=0.1))\n",
    "        b_fc2 = tf.Variable(tf.constant(0.1, shape=[6]))\n",
    "        logits = tf.matmul(h_fc1_out, W_fc2) + b_fc2\n",
    "        \n",
    "\n",
    "        # Improvement is in the loss function IS HERE\n",
    "        # Training computation.\n",
    "        loss_xentropy = tf.reduce_mean(tf.nn.softmax_cross_entropy_with_logits(logits, tf_train_labels))\n",
    "        loss_l2 = tf.nn.l2_loss(W_fc2)\n",
    "        loss = loss_xentropy + beta*loss_l2\n",
    "    \n",
    "        # Optimizer.\n",
    "        optimizer = tf.train.GradientDescentOptimizer(0.5).minimize(loss)\n",
    "  \n",
    "        # Predictions for the training dataset\n",
    "        train_prediction = tf.nn.softmax(logits)\n",
    "    \n",
    "        # Predictions for the validation dataset\n",
    "        h_valid1 = tf.nn.relu(tf.matmul(tf_valid_dataset, W_fc1) + b_fc1)\n",
    "        h_valid2 = tf.matmul(h_valid1, W_fc2) + b_fc2\n",
    "        valid_prediction = tf.nn.softmax(h_valid2)\n",
    "    \n",
    "        # Predictions for the test dataset\n",
    "        h_test1 = tf.nn.relu(tf.matmul(tf_test_dataset, W_fc1) + b_fc1)\n",
    "        h_test2 = tf.matmul(h_test1, W_fc2) + b_fc2\n",
    "        test_prediction = tf.nn.softmax(h_test2)\n",
    "    \n",
    "    \n",
    "    step_x = np.array([])\n",
    "    minibatch_accuracy = np.array([])\n",
    "    validation_accuracy = np.array([])\n",
    "\n",
    "    with tf.Session(graph=graph) as session:\n",
    "        tf.initialize_all_variables().run()\n",
    "        print(\"Initialized, beta =\", beta)\n",
    "        for step in range(num_steps):\n",
    "        \n",
    "            # Pick an offset within the training data, which has been randomized.\n",
    "            # Note: we could use better randomization across epochs.\n",
    "            if offset_flag:\n",
    "                offset = (np.random.randint(20, size=1) * batch_size) % (train_sublabels.shape[0] - batch_size)\n",
    "            else:\n",
    "                offset = (step * batch_size) % (train_sublabels.shape[0] - batch_size)\n",
    "        \n",
    "            # Generate a minibatch.\n",
    "            batch_data = train_subdata[offset:(offset + batch_size), :]\n",
    "            batch_labels = train_sublabels[offset:(offset + batch_size), :]\n",
    "                \n",
    "            # Prepare a dictionary telling the session where to feed the minibatch.\n",
    "            # The key of the dictionary is the placeholder node of the graph to be fed,\n",
    "            # and the value is the numpy array to feed to it.\n",
    "            feed_dict = {tf_train_dataset : batch_data, tf_train_labels : batch_labels, keep_prob : 0.5}\n",
    "            _, l, predictions = session.run([optimizer, loss, train_prediction], feed_dict=feed_dict)\n",
    "        \n",
    "\n",
    "            if (step % 100 == 0):\n",
    "                print(\"Minibatch loss at step %d: %f\" % (step, l))\n",
    "                print(\"Minibatch accuracy: %.1f%%\" % accuracy(predictions, batch_labels))\n",
    "                step_x = np.append(step_x, step)\n",
    "                minibatch_accuracy = np.append(minibatch_accuracy, accuracy(predictions, batch_labels))\n",
    "                print(\"Validation accuracy: %.1f%%\" % accuracy(valid_prediction.eval(), valid_labels))\n",
    "                feed_dict_val = {tf_train_dataset : batch_data, tf_train_labels : batch_labels, keep_prob : 1.0}\n",
    "                validation_accuracy = np.append(validation_accuracy,\n",
    "                                                accuracy(valid_prediction.eval(feed_dict=feed_dict_val), valid_labels))\n",
    "                \n",
    "#        print(\"Test accuracy: %.1f%%\" % accuracy(test_prediction.eval(), test_labels))\n",
    "        acc_out = accuracy(test_prediction.eval(feed_dict=feed_dict_val), test_labels)\n",
    "\n",
    "        if step_graph:\n",
    "            plt.plot(step_x, minibatch_accuracy, color='k')\n",
    "            plt.plot(step_x, validation_accuracy, color='r')\n",
    "            plt.show()\n",
    "    \n",
    "    return acc_out"
   ]
  },
  {
   "cell_type": "code",
   "execution_count": null,
   "metadata": {
    "collapsed": false
   },
   "outputs": [],
   "source": [
    "run_graph(beta=0.01)"
   ]
  },
  {
   "cell_type": "code",
   "execution_count": null,
   "metadata": {
    "collapsed": false
   },
   "outputs": [],
   "source": [
    "beta = 10.0**np.linspace(-4.0, 0.0, 20)\n",
    "\n",
    "acc = np.array([])\n",
    "for b in beta:\n",
    "    acc = np.append(acc, run_graph(beta=b))\n",
    "    \n",
    "\n",
    "plt.plot(beta, acc, color='k')\n",
    "plt.xscale('log')\n",
    "plt.xlabel(r\"$\\beta$\")\n",
    "plt.ylabel(\"test set accuracy\")\n",
    "plt.show()\n",
    "    \n"
   ]
  },
  {
   "cell_type": "code",
   "execution_count": null,
   "metadata": {
    "collapsed": true
   },
   "outputs": [],
   "source": []
  }
 ],
 "metadata": {
  "kernelspec": {
   "display_name": "Python 2",
   "language": "python",
   "name": "python2"
  },
  "language_info": {
   "codemirror_mode": {
    "name": "ipython",
    "version": 2
   },
   "file_extension": ".py",
   "mimetype": "text/x-python",
   "name": "python",
   "nbconvert_exporter": "python",
   "pygments_lexer": "ipython2",
   "version": "2.7.10"
  }
 },
 "nbformat": 4,
 "nbformat_minor": 0
}