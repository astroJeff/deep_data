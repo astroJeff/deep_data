{
 "cells": [
  {
   "cell_type": "code",
   "execution_count": null,
   "metadata": {
    "collapsed": false
   },
   "outputs": [],
   "source": [
    "import sys\n",
    "import illustris_python as il\n",
    "import numpy as np\n",
    "import matplotlib as mpl\n",
    "import matplotlib.pyplot as plt\n",
    "\n",
    "%matplotlib inline"
   ]
  },
  {
   "cell_type": "code",
   "execution_count": null,
   "metadata": {
    "collapsed": false
   },
   "outputs": [],
   "source": [
    "basePath = '../data/Illustris-3'\n",
    "fields = ['Masses']\n",
    "gas_mass = il.snapshot.loadSubset(basePath,135,'gas',fields=fields)\n",
    "print np.log10( np.mean(gas_mass,dtype='double')*1e10/0.704 )\n",
    "\n",
    "\n"
   ]
  },
  {
   "cell_type": "code",
   "execution_count": null,
   "metadata": {
    "collapsed": false
   },
   "outputs": [],
   "source": [
    "dm_pos = il.snapshot.loadSubset(basePath,135,'dm',['Coordinates']);\n",
    "plt.hist2d(dm_pos[:,0], dm_pos[:,1], norm=mpl.colors.LogNorm(), bins=64);\n",
    "plt.xlim([0,75000])\n",
    "plt.ylim([0,75000])\n",
    "plt.xlabel('x [ckpc/h]')\n",
    "plt.ylabel('y [ckpc/h]')\n",
    "\n",
    "plt.show()"
   ]
  },
  {
   "cell_type": "code",
   "execution_count": null,
   "metadata": {
    "collapsed": false
   },
   "outputs": [],
   "source": [
    "stars = il.snapshot.loadHalo(basePath,135,100,'stars')\n",
    "stars.keys()\n",
    "for i in range(3):\n",
    "    print np.min(stars['Coordinates'][:,i]), np.max(stars['Coordinates'][:,i])"
   ]
  },
  {
   "cell_type": "code",
   "execution_count": null,
   "metadata": {
    "collapsed": true
   },
   "outputs": [],
   "source": []
  }
 ],
 "metadata": {
  "kernelspec": {
   "display_name": "Python 2",
   "language": "python",
   "name": "python2"
  },
  "language_info": {
   "codemirror_mode": {
    "name": "ipython",
    "version": 2
   },
   "file_extension": ".py",
   "mimetype": "text/x-python",
   "name": "python",
   "nbconvert_exporter": "python",
   "pygments_lexer": "ipython2",
   "version": "2.7.10"
  }
 },
 "nbformat": 4,
 "nbformat_minor": 0
}